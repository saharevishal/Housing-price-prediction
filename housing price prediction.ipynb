{
 "cells": [
  {
   "cell_type": "markdown",
   "id": "c63b2d94",
   "metadata": {},
   "source": [
    "# SLR"
   ]
  },
  {
   "cell_type": "code",
   "execution_count": 1,
   "id": "663cd950",
   "metadata": {},
   "outputs": [],
   "source": [
    "import pandas as pd\n",
    "import numpy as np\n",
    "from sklearn.linear_model import LinearRegression\n",
    "from sklearn.model_selection import train_test_split\n",
    "from sklearn.metrics import mean_absolute_error"
   ]
  },
  {
   "cell_type": "code",
   "execution_count": 2,
   "id": "a24e284b",
   "metadata": {},
   "outputs": [],
   "source": [
    "d1=pd.read_csv('OneDrive/Documents/Housing.csv')"
   ]
  },
  {
   "cell_type": "code",
   "execution_count": 3,
   "id": "23e4ab60",
   "metadata": {},
   "outputs": [
    {
     "name": "stdout",
     "output_type": "stream",
     "text": [
      "<class 'pandas.core.frame.DataFrame'>\n",
      "RangeIndex: 545 entries, 0 to 544\n",
      "Data columns (total 13 columns):\n",
      " #   Column            Non-Null Count  Dtype \n",
      "---  ------            --------------  ----- \n",
      " 0   price             545 non-null    int64 \n",
      " 1   area              545 non-null    int64 \n",
      " 2   bedrooms          545 non-null    int64 \n",
      " 3   bathrooms         545 non-null    int64 \n",
      " 4   stories           545 non-null    int64 \n",
      " 5   mainroad          545 non-null    object\n",
      " 6   guestroom         545 non-null    object\n",
      " 7   basement          545 non-null    object\n",
      " 8   hotwaterheating   545 non-null    object\n",
      " 9   airconditioning   545 non-null    object\n",
      " 10  parking           545 non-null    int64 \n",
      " 11  prefarea          545 non-null    object\n",
      " 12  furnishingstatus  545 non-null    object\n",
      "dtypes: int64(6), object(7)\n",
      "memory usage: 55.5+ KB\n"
     ]
    }
   ],
   "source": [
    "d1.info()"
   ]
  },
  {
   "cell_type": "code",
   "execution_count": 4,
   "id": "a16205ce",
   "metadata": {},
   "outputs": [],
   "source": [
    "x=d1['area']\n",
    "y=d1['price']"
   ]
  },
  {
   "cell_type": "code",
   "execution_count": 5,
   "id": "913fc55a",
   "metadata": {},
   "outputs": [
    {
     "data": {
      "text/plain": [
       "0      7420\n",
       "1      8960\n",
       "2      9960\n",
       "3      7500\n",
       "4      7420\n",
       "       ... \n",
       "540    3000\n",
       "541    2400\n",
       "542    3620\n",
       "543    2910\n",
       "544    3850\n",
       "Name: area, Length: 545, dtype: int64"
      ]
     },
     "execution_count": 5,
     "metadata": {},
     "output_type": "execute_result"
    }
   ],
   "source": [
    "x"
   ]
  },
  {
   "cell_type": "code",
   "execution_count": 6,
   "id": "e90f818a",
   "metadata": {},
   "outputs": [
    {
     "data": {
      "text/plain": [
       "0      13300000\n",
       "1      12250000\n",
       "2      12250000\n",
       "3      12215000\n",
       "4      11410000\n",
       "         ...   \n",
       "540     1820000\n",
       "541     1767150\n",
       "542     1750000\n",
       "543     1750000\n",
       "544     1750000\n",
       "Name: price, Length: 545, dtype: int64"
      ]
     },
     "execution_count": 6,
     "metadata": {},
     "output_type": "execute_result"
    }
   ],
   "source": [
    "y"
   ]
  },
  {
   "cell_type": "code",
   "execution_count": 7,
   "id": "a5ecf215",
   "metadata": {},
   "outputs": [],
   "source": [
    "x_train,x_test,y_train,y_test=train_test_split(x,y,test_size=0.1)"
   ]
  },
  {
   "cell_type": "code",
   "execution_count": 8,
   "id": "cf98a5f9",
   "metadata": {},
   "outputs": [],
   "source": [
    "x_train=np.array(x_train)\n",
    "x_train=x_train.reshape(-1,1)"
   ]
  },
  {
   "cell_type": "code",
   "execution_count": 54,
   "id": "fa0cc900",
   "metadata": {},
   "outputs": [],
   "source": [
    "#print(x_train)"
   ]
  },
  {
   "cell_type": "code",
   "execution_count": 10,
   "id": "75f15f0a",
   "metadata": {},
   "outputs": [],
   "source": [
    "x_test=np.array(x_test)\n",
    "x_test=x_test.reshape(-1,1)"
   ]
  },
  {
   "cell_type": "code",
   "execution_count": 11,
   "id": "9c3524c7",
   "metadata": {},
   "outputs": [],
   "source": [
    "#SLR\n",
    "\n",
    "lr=LinearRegression()\n",
    "le=lr.fit(x_train,y_train)\n",
    "pred=le.predict(x_test)"
   ]
  },
  {
   "cell_type": "code",
   "execution_count": 12,
   "id": "eedefee8",
   "metadata": {},
   "outputs": [],
   "source": [
    "z=pred.round(3)"
   ]
  },
  {
   "cell_type": "code",
   "execution_count": 13,
   "id": "f2e17590",
   "metadata": {},
   "outputs": [
    {
     "data": {
      "text/plain": [
       "array([3625561.286, 3880968.017, 5650891.855, 3869765.968, 4351454.101,\n",
       "       4638226.571, 4969807.239, 4458993.777, 3585233.908, 4503801.975,\n",
       "       4167740.487, 5795174.254, 4270799.344, 4683034.769, 4145336.388,\n",
       "       4234952.785, 4306645.902, 4252876.064, 6027280.722, 6260283.353,\n",
       "       3988507.694, 4660630.67 , 3673506.059, 5406687.174, 4678553.949,\n",
       "       3894410.477, 4582216.323, 4270799.344, 4010911.793, 4324569.182,\n",
       "       6287168.272, 5292426.268, 4234952.785, 3831678.999, 4010911.793,\n",
       "       8357307.039, 4288722.623, 4647188.21 , 4181182.947, 3181960.122,\n",
       "       4277520.573, 4069162.451, 4884671.662, 4907075.761, 9701552.992,\n",
       "       6699403.698, 5131116.753, 4257356.884, 5019096.257, 5682705.676,\n",
       "       4122932.289, 5131116.753, 3697254.404, 4055719.991, 6072088.92 ])"
      ]
     },
     "execution_count": 13,
     "metadata": {},
     "output_type": "execute_result"
    }
   ],
   "source": [
    "z"
   ]
  },
  {
   "cell_type": "code",
   "execution_count": 14,
   "id": "2ab094d4",
   "metadata": {},
   "outputs": [
    {
     "data": {
      "text/plain": [
       "491     2835000\n",
       "515     2450000\n",
       "126     5880000\n",
       "425     3360000\n",
       "75      6650000\n",
       "404     3493000\n",
       "368     3675000\n",
       "281     4270000\n",
       "243     4550000\n",
       "167     5285000\n",
       "544     1750000\n",
       "36      8043000\n",
       "343     3850000\n",
       "138     5740000\n",
       "174     5250000\n",
       "294     4200000\n",
       "215     4830000\n",
       "428     3325000\n",
       "115     6020000\n",
       "176     5250000\n",
       "251     4515000\n",
       "268     4382000\n",
       "292     4200000\n",
       "483     2940000\n",
       "249     4543000\n",
       "108     6107500\n",
       "429     3325000\n",
       "307     4165000\n",
       "518     2450000\n",
       "199     4907000\n",
       "6      10150000\n",
       "280     4270000\n",
       "70      6790000\n",
       "424     3360000\n",
       "447     3150000\n",
       "10      9800000\n",
       "420     3360000\n",
       "267     4403000\n",
       "234     4620000\n",
       "449     3150000\n",
       "448     3150000\n",
       "472     3010000\n",
       "365     3703000\n",
       "147     5600000\n",
       "7      10150000\n",
       "401     3500000\n",
       "44      7560000\n",
       "330     3990000\n",
       "9       9800000\n",
       "121     5950000\n",
       "471     3010000\n",
       "39      7910000\n",
       "197     4956000\n",
       "507     2590000\n",
       "8       9870000\n",
       "Name: price, dtype: int64"
      ]
     },
     "execution_count": 14,
     "metadata": {},
     "output_type": "execute_result"
    }
   ],
   "source": [
    "y_test"
   ]
  },
  {
   "cell_type": "code",
   "execution_count": 15,
   "id": "ae1ce8b7",
   "metadata": {},
   "outputs": [],
   "source": [
    "error=mean_absolute_error(y_test,pred)"
   ]
  },
  {
   "cell_type": "code",
   "execution_count": 16,
   "id": "8fb325b4",
   "metadata": {},
   "outputs": [
    {
     "data": {
      "text/plain": [
       "1213927.7328248962"
      ]
     },
     "execution_count": 16,
     "metadata": {},
     "output_type": "execute_result"
    }
   ],
   "source": [
    "error"
   ]
  },
  {
   "cell_type": "code",
   "execution_count": 17,
   "id": "7522185d",
   "metadata": {},
   "outputs": [
    {
     "name": "stdout",
     "output_type": "stream",
     "text": [
      "equation of line is  [448.08198417] x + 2442624.8482522564\n"
     ]
    }
   ],
   "source": [
    "le.coef_   # m\n",
    "le.intercept_  #c\n",
    "print('equation of line is ', le.coef_,'x +' ,le.intercept_)"
   ]
  },
  {
   "cell_type": "code",
   "execution_count": 18,
   "id": "2c3840fb",
   "metadata": {},
   "outputs": [
    {
     "data": {
      "text/plain": [
       "array([448.08198417])"
      ]
     },
     "execution_count": 18,
     "metadata": {},
     "output_type": "execute_result"
    }
   ],
   "source": [
    "le.coef_"
   ]
  },
  {
   "cell_type": "code",
   "execution_count": 19,
   "id": "b48dcf99",
   "metadata": {},
   "outputs": [
    {
     "data": {
      "text/plain": [
       "2442624.8482522564"
      ]
     },
     "execution_count": 19,
     "metadata": {},
     "output_type": "execute_result"
    }
   ],
   "source": [
    "le.intercept_"
   ]
  },
  {
   "cell_type": "code",
   "execution_count": 20,
   "id": "4e513f97",
   "metadata": {},
   "outputs": [],
   "source": [
    "import  sklearn"
   ]
  },
  {
   "cell_type": "code",
   "execution_count": 53,
   "id": "4aca983c",
   "metadata": {},
   "outputs": [],
   "source": [
    "#help(sklearn)"
   ]
  },
  {
   "cell_type": "code",
   "execution_count": 22,
   "id": "6f9b8ed8",
   "metadata": {},
   "outputs": [],
   "source": [
    "import pandas as pd\n",
    "import numpy as np\n",
    "from sklearn.linear_model import LogisticRegression\n",
    "from sklearn.model_selection import train_test_split\n",
    "from sklearn.metrics import accuracy_score"
   ]
  },
  {
   "cell_type": "code",
   "execution_count": 23,
   "id": "54d39b13",
   "metadata": {},
   "outputs": [],
   "source": [
    "df=pd.read_csv('OneDrive\\Documents\\CustomerChurn.csv')"
   ]
  },
  {
   "cell_type": "code",
   "execution_count": 24,
   "id": "4dd8e0e7",
   "metadata": {},
   "outputs": [
    {
     "name": "stdout",
     "output_type": "stream",
     "text": [
      "<class 'pandas.core.frame.DataFrame'>\n",
      "RangeIndex: 7043 entries, 0 to 7042\n",
      "Data columns (total 21 columns):\n",
      " #   Column            Non-Null Count  Dtype  \n",
      "---  ------            --------------  -----  \n",
      " 0   customerID        7043 non-null   object \n",
      " 1   gender            7043 non-null   object \n",
      " 2   SeniorCitizen     7043 non-null   int64  \n",
      " 3   Partner           7043 non-null   object \n",
      " 4   Dependents        7043 non-null   object \n",
      " 5   tenure            7043 non-null   int64  \n",
      " 6   PhoneService      7043 non-null   object \n",
      " 7   MultipleLines     7043 non-null   object \n",
      " 8   InternetService   7043 non-null   object \n",
      " 9   OnlineSecurity    7043 non-null   object \n",
      " 10  OnlineBackup      7043 non-null   object \n",
      " 11  DeviceProtection  7043 non-null   object \n",
      " 12  TechSupport       7043 non-null   object \n",
      " 13  StreamingTV       7043 non-null   object \n",
      " 14  StreamingMovies   7043 non-null   object \n",
      " 15  Contract          7043 non-null   object \n",
      " 16  PaperlessBilling  7043 non-null   object \n",
      " 17  PaymentMethod     7043 non-null   object \n",
      " 18  MonthlyCharges    7043 non-null   float64\n",
      " 19  TotalCharges      7043 non-null   object \n",
      " 20  Churn             7043 non-null   object \n",
      "dtypes: float64(1), int64(2), object(18)\n",
      "memory usage: 1.1+ MB\n"
     ]
    }
   ],
   "source": [
    "df.info()"
   ]
  },
  {
   "cell_type": "code",
   "execution_count": 25,
   "id": "a90d5244",
   "metadata": {},
   "outputs": [],
   "source": [
    "from sklearn.preprocessing import LabelEncoder\n"
   ]
  },
  {
   "cell_type": "code",
   "execution_count": 43,
   "id": "e116ca17",
   "metadata": {},
   "outputs": [],
   "source": [
    "le=LabelEncoder()\n",
    "df['gender']=le.fit_transform(df['gender'])\n",
    "df['Partner']=le.fit_transform(df['Partner'])\n",
    "df['Dependents']=le.fit_transform(df['Dependents'])\n",
    "df['Churn']=le.fit_transform(df['Churn'])\n",
    "df['InternetService']=le.fit_transform(df['InternetService'])\n",
    "df['Contract']=le.fit_transform(df['Contract'])\n",
    "df['PaymentMethod']=le.fit_transform(df['PaymentMethod'])\n",
    "df['MonthlyCharges']=le.fit_transform(df['MonthlyCharges'])\n",
    "df['TotalCharges']=le.fit_transform(df['TotalCharges'])"
   ]
  },
  {
   "cell_type": "code",
   "execution_count": 44,
   "id": "e72d646a",
   "metadata": {},
   "outputs": [],
   "source": [
    "x=df[['gender','Dependents','TotalCharges','MonthlyCharges','Contract','SeniorCitizen','tenure','PaymentMethod','InternetService']]"
   ]
  },
  {
   "cell_type": "code",
   "execution_count": 45,
   "id": "8943e159",
   "metadata": {},
   "outputs": [],
   "source": [
    "y=df['Churn']"
   ]
  },
  {
   "cell_type": "code",
   "execution_count": 46,
   "id": "06e9f85d",
   "metadata": {},
   "outputs": [],
   "source": [
    "x_train,x_test,y_train,y_test=train_test_split(x,y,test_size=0.25)"
   ]
  },
  {
   "cell_type": "code",
   "execution_count": 47,
   "id": "bf899f1a",
   "metadata": {},
   "outputs": [
    {
     "data": {
      "text/plain": [
       "gender             int64\n",
       "Dependents         int64\n",
       "TotalCharges       int64\n",
       "MonthlyCharges     int64\n",
       "Contract           int64\n",
       "SeniorCitizen      int64\n",
       "tenure             int64\n",
       "PaymentMethod      int64\n",
       "InternetService    int64\n",
       "dtype: object"
      ]
     },
     "execution_count": 47,
     "metadata": {},
     "output_type": "execute_result"
    }
   ],
   "source": [
    "x_train.dtypes"
   ]
  },
  {
   "cell_type": "code",
   "execution_count": 39,
   "id": "aa265376",
   "metadata": {},
   "outputs": [
    {
     "data": {
      "text/plain": [
       "dtype('int32')"
      ]
     },
     "execution_count": 39,
     "metadata": {},
     "output_type": "execute_result"
    }
   ],
   "source": [
    "y_train.dtypes"
   ]
  },
  {
   "cell_type": "code",
   "execution_count": 35,
   "id": "a209bd89",
   "metadata": {},
   "outputs": [
    {
     "data": {
      "text/html": [
       "<div>\n",
       "<style scoped>\n",
       "    .dataframe tbody tr th:only-of-type {\n",
       "        vertical-align: middle;\n",
       "    }\n",
       "\n",
       "    .dataframe tbody tr th {\n",
       "        vertical-align: top;\n",
       "    }\n",
       "\n",
       "    .dataframe thead th {\n",
       "        text-align: right;\n",
       "    }\n",
       "</style>\n",
       "<table border=\"1\" class=\"dataframe\">\n",
       "  <thead>\n",
       "    <tr style=\"text-align: right;\">\n",
       "      <th></th>\n",
       "      <th>gender</th>\n",
       "      <th>Dependents</th>\n",
       "      <th>TotalCharges</th>\n",
       "      <th>MonthlyCharges</th>\n",
       "      <th>Contract</th>\n",
       "      <th>SeniorCitizen</th>\n",
       "      <th>tenure</th>\n",
       "      <th>PaymentMethod</th>\n",
       "      <th>InternetService</th>\n",
       "    </tr>\n",
       "  </thead>\n",
       "  <tbody>\n",
       "    <tr>\n",
       "      <th>4537</th>\n",
       "      <td>1</td>\n",
       "      <td>0</td>\n",
       "      <td>836.35</td>\n",
       "      <td>49.80</td>\n",
       "      <td>0</td>\n",
       "      <td>0</td>\n",
       "      <td>17</td>\n",
       "      <td>3</td>\n",
       "      <td>0</td>\n",
       "    </tr>\n",
       "    <tr>\n",
       "      <th>3617</th>\n",
       "      <td>0</td>\n",
       "      <td>0</td>\n",
       "      <td>810.7</td>\n",
       "      <td>48.35</td>\n",
       "      <td>0</td>\n",
       "      <td>1</td>\n",
       "      <td>18</td>\n",
       "      <td>2</td>\n",
       "      <td>0</td>\n",
       "    </tr>\n",
       "    <tr>\n",
       "      <th>6185</th>\n",
       "      <td>1</td>\n",
       "      <td>0</td>\n",
       "      <td>5231.3</td>\n",
       "      <td>103.95</td>\n",
       "      <td>1</td>\n",
       "      <td>0</td>\n",
       "      <td>50</td>\n",
       "      <td>2</td>\n",
       "      <td>1</td>\n",
       "    </tr>\n",
       "    <tr>\n",
       "      <th>1892</th>\n",
       "      <td>1</td>\n",
       "      <td>0</td>\n",
       "      <td>207.35</td>\n",
       "      <td>50.95</td>\n",
       "      <td>0</td>\n",
       "      <td>1</td>\n",
       "      <td>4</td>\n",
       "      <td>1</td>\n",
       "      <td>0</td>\n",
       "    </tr>\n",
       "    <tr>\n",
       "      <th>1589</th>\n",
       "      <td>0</td>\n",
       "      <td>0</td>\n",
       "      <td>493.65</td>\n",
       "      <td>64.95</td>\n",
       "      <td>0</td>\n",
       "      <td>1</td>\n",
       "      <td>7</td>\n",
       "      <td>2</td>\n",
       "      <td>0</td>\n",
       "    </tr>\n",
       "    <tr>\n",
       "      <th>...</th>\n",
       "      <td>...</td>\n",
       "      <td>...</td>\n",
       "      <td>...</td>\n",
       "      <td>...</td>\n",
       "      <td>...</td>\n",
       "      <td>...</td>\n",
       "      <td>...</td>\n",
       "      <td>...</td>\n",
       "      <td>...</td>\n",
       "    </tr>\n",
       "    <tr>\n",
       "      <th>391</th>\n",
       "      <td>1</td>\n",
       "      <td>0</td>\n",
       "      <td>2309.55</td>\n",
       "      <td>84.80</td>\n",
       "      <td>0</td>\n",
       "      <td>1</td>\n",
       "      <td>27</td>\n",
       "      <td>0</td>\n",
       "      <td>0</td>\n",
       "    </tr>\n",
       "    <tr>\n",
       "      <th>1322</th>\n",
       "      <td>0</td>\n",
       "      <td>0</td>\n",
       "      <td>187.75</td>\n",
       "      <td>19.95</td>\n",
       "      <td>0</td>\n",
       "      <td>0</td>\n",
       "      <td>10</td>\n",
       "      <td>0</td>\n",
       "      <td>2</td>\n",
       "    </tr>\n",
       "    <tr>\n",
       "      <th>3659</th>\n",
       "      <td>1</td>\n",
       "      <td>0</td>\n",
       "      <td>7332.4</td>\n",
       "      <td>109.90</td>\n",
       "      <td>1</td>\n",
       "      <td>0</td>\n",
       "      <td>67</td>\n",
       "      <td>1</td>\n",
       "      <td>1</td>\n",
       "    </tr>\n",
       "    <tr>\n",
       "      <th>2513</th>\n",
       "      <td>1</td>\n",
       "      <td>1</td>\n",
       "      <td>1054.75</td>\n",
       "      <td>19.20</td>\n",
       "      <td>2</td>\n",
       "      <td>0</td>\n",
       "      <td>52</td>\n",
       "      <td>3</td>\n",
       "      <td>2</td>\n",
       "    </tr>\n",
       "    <tr>\n",
       "      <th>210</th>\n",
       "      <td>1</td>\n",
       "      <td>0</td>\n",
       "      <td>84.5</td>\n",
       "      <td>46.00</td>\n",
       "      <td>0</td>\n",
       "      <td>0</td>\n",
       "      <td>2</td>\n",
       "      <td>1</td>\n",
       "      <td>0</td>\n",
       "    </tr>\n",
       "  </tbody>\n",
       "</table>\n",
       "<p>1761 rows × 9 columns</p>\n",
       "</div>"
      ],
      "text/plain": [
       "      gender  Dependents TotalCharges  MonthlyCharges  Contract  \\\n",
       "4537       1           0       836.35           49.80         0   \n",
       "3617       0           0        810.7           48.35         0   \n",
       "6185       1           0       5231.3          103.95         1   \n",
       "1892       1           0       207.35           50.95         0   \n",
       "1589       0           0       493.65           64.95         0   \n",
       "...      ...         ...          ...             ...       ...   \n",
       "391        1           0      2309.55           84.80         0   \n",
       "1322       0           0       187.75           19.95         0   \n",
       "3659       1           0       7332.4          109.90         1   \n",
       "2513       1           1      1054.75           19.20         2   \n",
       "210        1           0         84.5           46.00         0   \n",
       "\n",
       "      SeniorCitizen  tenure  PaymentMethod  InternetService  \n",
       "4537              0      17              3                0  \n",
       "3617              1      18              2                0  \n",
       "6185              0      50              2                1  \n",
       "1892              1       4              1                0  \n",
       "1589              1       7              2                0  \n",
       "...             ...     ...            ...              ...  \n",
       "391               1      27              0                0  \n",
       "1322              0      10              0                2  \n",
       "3659              0      67              1                1  \n",
       "2513              0      52              3                2  \n",
       "210               0       2              1                0  \n",
       "\n",
       "[1761 rows x 9 columns]"
      ]
     },
     "execution_count": 35,
     "metadata": {},
     "output_type": "execute_result"
    }
   ],
   "source": [
    "x_test"
   ]
  },
  {
   "cell_type": "code",
   "execution_count": 48,
   "id": "9b075e35",
   "metadata": {},
   "outputs": [
    {
     "name": "stderr",
     "output_type": "stream",
     "text": [
      "C:\\Users\\DELL\\anaconda3\\Lib\\site-packages\\sklearn\\linear_model\\_logistic.py:460: ConvergenceWarning: lbfgs failed to converge (status=1):\n",
      "STOP: TOTAL NO. of ITERATIONS REACHED LIMIT.\n",
      "\n",
      "Increase the number of iterations (max_iter) or scale the data as shown in:\n",
      "    https://scikit-learn.org/stable/modules/preprocessing.html\n",
      "Please also refer to the documentation for alternative solver options:\n",
      "    https://scikit-learn.org/stable/modules/linear_model.html#logistic-regression\n",
      "  n_iter_i = _check_optimize_result(\n"
     ]
    }
   ],
   "source": [
    "lg=LogisticRegression()\n",
    "lr=lg.fit(x_train,y_train)\n",
    "preds=lr.predict(x_test)"
   ]
  },
  {
   "cell_type": "code",
   "execution_count": 49,
   "id": "533123b8",
   "metadata": {},
   "outputs": [
    {
     "data": {
      "text/plain": [
       "array([0, 1, 0, ..., 1, 0, 0], dtype=int64)"
      ]
     },
     "execution_count": 49,
     "metadata": {},
     "output_type": "execute_result"
    }
   ],
   "source": [
    "preds"
   ]
  },
  {
   "cell_type": "code",
   "execution_count": 50,
   "id": "237c62e4",
   "metadata": {},
   "outputs": [
    {
     "data": {
      "text/plain": [
       "5758    0\n",
       "4169    1\n",
       "3875    1\n",
       "1067    0\n",
       "3925    0\n",
       "       ..\n",
       "6187    0\n",
       "5225    0\n",
       "4741    0\n",
       "1928    1\n",
       "4228    1\n",
       "Name: Churn, Length: 1761, dtype: int64"
      ]
     },
     "execution_count": 50,
     "metadata": {},
     "output_type": "execute_result"
    }
   ],
   "source": [
    "y_test"
   ]
  },
  {
   "cell_type": "code",
   "execution_count": 51,
   "id": "a4a191a6",
   "metadata": {},
   "outputs": [],
   "source": [
    "acc=accuracy_score(y_test,preds)"
   ]
  },
  {
   "cell_type": "code",
   "execution_count": 52,
   "id": "888e72a8",
   "metadata": {},
   "outputs": [
    {
     "data": {
      "text/plain": [
       "0.794434980124929"
      ]
     },
     "execution_count": 52,
     "metadata": {},
     "output_type": "execute_result"
    }
   ],
   "source": [
    "acc"
   ]
  },
  {
   "cell_type": "code",
   "execution_count": null,
   "id": "519beb7d",
   "metadata": {},
   "outputs": [],
   "source": []
  }
 ],
 "metadata": {
  "kernelspec": {
   "display_name": "Python 3 (ipykernel)",
   "language": "python",
   "name": "python3"
  },
  "language_info": {
   "codemirror_mode": {
    "name": "ipython",
    "version": 3
   },
   "file_extension": ".py",
   "mimetype": "text/x-python",
   "name": "python",
   "nbconvert_exporter": "python",
   "pygments_lexer": "ipython3",
   "version": "3.11.5"
  }
 },
 "nbformat": 4,
 "nbformat_minor": 5
}
